{
  "nbformat": 4,
  "nbformat_minor": 0,
  "metadata": {
    "colab": {
      "name": "interferograms-atena.ipynb",
      "provenance": [],
      "collapsed_sections": []
    },
    "kernelspec": {
      "name": "python3",
      "display_name": "Python 3"
    },
    "language_info": {
      "name": "python"
    }
  },
  "cells": [
    {
      "cell_type": "code",
      "metadata": {
        "colab": {
          "base_uri": "https://localhost:8080/"
        },
        "id": "DowNqfgiR6pQ",
        "outputId": "d58e785e-4427-4535-821a-d916846b7a56"
      },
      "source": [
        "from google.colab import drive\n",
        "drive.mount('/content/drive')"
      ],
      "execution_count": 3,
      "outputs": [
        {
          "output_type": "stream",
          "text": [
            "Mounted at /content/drive\n"
          ],
          "name": "stdout"
        }
      ]
    },
    {
      "cell_type": "code",
      "metadata": {
        "colab": {
          "base_uri": "https://localhost:8080/"
        },
        "id": "B-3BzEA_NXXt",
        "outputId": "25757464-107b-48df-aca5-e34fd09dd9a2"
      },
      "source": [
        "!pip install seaborn"
      ],
      "execution_count": 4,
      "outputs": [
        {
          "output_type": "stream",
          "text": [
            "Requirement already satisfied: seaborn in /usr/local/lib/python3.7/dist-packages (0.11.1)\n",
            "Requirement already satisfied: pandas>=0.23 in /usr/local/lib/python3.7/dist-packages (from seaborn) (1.1.5)\n",
            "Requirement already satisfied: matplotlib>=2.2 in /usr/local/lib/python3.7/dist-packages (from seaborn) (3.2.2)\n",
            "Requirement already satisfied: numpy>=1.15 in /usr/local/lib/python3.7/dist-packages (from seaborn) (1.19.5)\n",
            "Requirement already satisfied: scipy>=1.0 in /usr/local/lib/python3.7/dist-packages (from seaborn) (1.4.1)\n",
            "Requirement already satisfied: kiwisolver>=1.0.1 in /usr/local/lib/python3.7/dist-packages (from matplotlib>=2.2->seaborn) (1.3.1)\n",
            "Requirement already satisfied: python-dateutil>=2.1 in /usr/local/lib/python3.7/dist-packages (from matplotlib>=2.2->seaborn) (2.8.2)\n",
            "Requirement already satisfied: cycler>=0.10 in /usr/local/lib/python3.7/dist-packages (from matplotlib>=2.2->seaborn) (0.10.0)\n",
            "Requirement already satisfied: pyparsing!=2.0.4,!=2.1.2,!=2.1.6,>=2.0.1 in /usr/local/lib/python3.7/dist-packages (from matplotlib>=2.2->seaborn) (2.4.7)\n",
            "Requirement already satisfied: six in /usr/local/lib/python3.7/dist-packages (from cycler>=0.10->matplotlib>=2.2->seaborn) (1.15.0)\n",
            "Requirement already satisfied: pytz>=2017.2 in /usr/local/lib/python3.7/dist-packages (from pandas>=0.23->seaborn) (2018.9)\n"
          ],
          "name": "stdout"
        }
      ]
    },
    {
      "cell_type": "code",
      "metadata": {
        "id": "-Omrwe0_6Wpr"
      },
      "source": [
        "import pandas as pd\n",
        "import numpy as np\n",
        "import tensorflow as tf\n",
        "from matplotlib.patches import Patch\n",
        "import matplotlib.pyplot as plt\n",
        "import seaborn as sns\n",
        "from scipy.signal import find_peaks\n",
        "from scipy.integrate import simps\n",
        "from numpy import trapz\n",
        "from sklearn.model_selection import StratifiedKFold\n",
        "from sklearn.model_selection import cross_val_score\n",
        "from sklearn.metrics import plot_roc_curve\n",
        "from sklearn.metrics import roc_curve\n",
        "from sklearn.metrics import auc\n",
        "from sklearn.metrics import precision_recall_curve\n",
        "from sklearn.metrics import confusion_matrix\n",
        "from sklearn.metrics import classification_report\n",
        "from sklearn.metrics import mean_squared_error\n",
        "from sklearn.model_selection import train_test_split\n",
        "from sklearn.model_selection import learning_curve"
      ],
      "execution_count": 5,
      "outputs": []
    },
    {
      "cell_type": "code",
      "metadata": {
        "id": "fpsfyNEW2WIM"
      },
      "source": [
        "df = pd.read_csv('/content/drive/MyDrive/Colab Notebooks/My_work/Dane/Interferograms/1550-srebro/1.3/W0000.CSV', sep=',', header=None, names=['Wave_Lenght', 'Amplitude'], skiprows=[0,1,2,3,4,5,6,7,8,9,10,11,12,13,14,15,16,17,18,19,20,21,22,23])"
      ],
      "execution_count": 6,
      "outputs": []
    },
    {
      "cell_type": "code",
      "metadata": {
        "colab": {
          "base_uri": "https://localhost:8080/",
          "height": 204
        },
        "id": "HZClElel2oQ0",
        "outputId": "e53aa09f-cd3c-45df-939e-42f5a87d5413"
      },
      "source": [
        "df.head()"
      ],
      "execution_count": 7,
      "outputs": [
        {
          "output_type": "execute_result",
          "data": {
            "text/html": [
              "<div>\n",
              "<style scoped>\n",
              "    .dataframe tbody tr th:only-of-type {\n",
              "        vertical-align: middle;\n",
              "    }\n",
              "\n",
              "    .dataframe tbody tr th {\n",
              "        vertical-align: top;\n",
              "    }\n",
              "\n",
              "    .dataframe thead th {\n",
              "        text-align: right;\n",
              "    }\n",
              "</style>\n",
              "<table border=\"1\" class=\"dataframe\">\n",
              "  <thead>\n",
              "    <tr style=\"text-align: right;\">\n",
              "      <th></th>\n",
              "      <th>Wave_Lenght</th>\n",
              "      <th>Amplitude</th>\n",
              "    </tr>\n",
              "  </thead>\n",
              "  <tbody>\n",
              "    <tr>\n",
              "      <th>0</th>\n",
              "      <td>1475.0000</td>\n",
              "      <td>7.976000e-07</td>\n",
              "    </tr>\n",
              "    <tr>\n",
              "      <th>1</th>\n",
              "      <td>1475.0198</td>\n",
              "      <td>9.544000e-07</td>\n",
              "    </tr>\n",
              "    <tr>\n",
              "      <th>2</th>\n",
              "      <td>1475.0397</td>\n",
              "      <td>5.796000e-07</td>\n",
              "    </tr>\n",
              "    <tr>\n",
              "      <th>3</th>\n",
              "      <td>1475.0595</td>\n",
              "      <td>1.106000e-06</td>\n",
              "    </tr>\n",
              "    <tr>\n",
              "      <th>4</th>\n",
              "      <td>1475.0794</td>\n",
              "      <td>6.473000e-07</td>\n",
              "    </tr>\n",
              "  </tbody>\n",
              "</table>\n",
              "</div>"
            ],
            "text/plain": [
              "   Wave_Lenght     Amplitude\n",
              "0    1475.0000  7.976000e-07\n",
              "1    1475.0198  9.544000e-07\n",
              "2    1475.0397  5.796000e-07\n",
              "3    1475.0595  1.106000e-06\n",
              "4    1475.0794  6.473000e-07"
            ]
          },
          "metadata": {},
          "execution_count": 7
        }
      ]
    },
    {
      "cell_type": "code",
      "metadata": {
        "colab": {
          "base_uri": "https://localhost:8080/",
          "height": 297
        },
        "id": "TfzdOQ5D2ppG",
        "outputId": "68258753-73da-484b-b13a-f80513a518f6"
      },
      "source": [
        "df.describe()"
      ],
      "execution_count": 8,
      "outputs": [
        {
          "output_type": "execute_result",
          "data": {
            "text/html": [
              "<div>\n",
              "<style scoped>\n",
              "    .dataframe tbody tr th:only-of-type {\n",
              "        vertical-align: middle;\n",
              "    }\n",
              "\n",
              "    .dataframe tbody tr th {\n",
              "        vertical-align: top;\n",
              "    }\n",
              "\n",
              "    .dataframe thead th {\n",
              "        text-align: right;\n",
              "    }\n",
              "</style>\n",
              "<table border=\"1\" class=\"dataframe\">\n",
              "  <thead>\n",
              "    <tr style=\"text-align: right;\">\n",
              "      <th></th>\n",
              "      <th>Wave_Lenght</th>\n",
              "      <th>Amplitude</th>\n",
              "    </tr>\n",
              "  </thead>\n",
              "  <tbody>\n",
              "    <tr>\n",
              "      <th>count</th>\n",
              "      <td>6301.000000</td>\n",
              "      <td>6.301000e+03</td>\n",
              "    </tr>\n",
              "    <tr>\n",
              "      <th>mean</th>\n",
              "      <td>1537.500000</td>\n",
              "      <td>2.137221e-04</td>\n",
              "    </tr>\n",
              "    <tr>\n",
              "      <th>std</th>\n",
              "      <td>36.092983</td>\n",
              "      <td>2.585698e-04</td>\n",
              "    </tr>\n",
              "    <tr>\n",
              "      <th>min</th>\n",
              "      <td>1475.000000</td>\n",
              "      <td>-3.916000e-08</td>\n",
              "    </tr>\n",
              "    <tr>\n",
              "      <th>25%</th>\n",
              "      <td>1506.250000</td>\n",
              "      <td>9.494000e-06</td>\n",
              "    </tr>\n",
              "    <tr>\n",
              "      <th>50%</th>\n",
              "      <td>1537.500000</td>\n",
              "      <td>9.003000e-05</td>\n",
              "    </tr>\n",
              "    <tr>\n",
              "      <th>75%</th>\n",
              "      <td>1568.750000</td>\n",
              "      <td>3.435000e-04</td>\n",
              "    </tr>\n",
              "    <tr>\n",
              "      <th>max</th>\n",
              "      <td>1600.000000</td>\n",
              "      <td>9.933000e-04</td>\n",
              "    </tr>\n",
              "  </tbody>\n",
              "</table>\n",
              "</div>"
            ],
            "text/plain": [
              "       Wave_Lenght     Amplitude\n",
              "count  6301.000000  6.301000e+03\n",
              "mean   1537.500000  2.137221e-04\n",
              "std      36.092983  2.585698e-04\n",
              "min    1475.000000 -3.916000e-08\n",
              "25%    1506.250000  9.494000e-06\n",
              "50%    1537.500000  9.003000e-05\n",
              "75%    1568.750000  3.435000e-04\n",
              "max    1600.000000  9.933000e-04"
            ]
          },
          "metadata": {},
          "execution_count": 8
        }
      ]
    },
    {
      "cell_type": "code",
      "metadata": {
        "colab": {
          "base_uri": "https://localhost:8080/",
          "height": 282
        },
        "id": "8Mmafhky3Wnj",
        "outputId": "1ce693d3-81fb-49ce-eb67-727832f0e0cf"
      },
      "source": [
        "plt.plot(df['Wave_Lenght'], df['Amplitude'], c='r')"
      ],
      "execution_count": 9,
      "outputs": [
        {
          "output_type": "execute_result",
          "data": {
            "text/plain": [
              "[<matplotlib.lines.Line2D at 0x7fa82ebdab90>]"
            ]
          },
          "metadata": {},
          "execution_count": 9
        },
        {
          "output_type": "display_data",
          "data": {
            "image/png": "[encoded data removed]",
            "text/plain": [
              "<Figure size 432x288 with 1 Axes>"
            ]
          },
          "metadata": {
            "needs_background": "light"
          }
        }
      ]
    },
    {
      "cell_type": "code",
      "metadata": {
        "id": "B1fDZOH3uZpH"
      },
      "source": [
        "def local_max(data):\n",
        "  peaks, _ = find_peaks(data['Amplitude'])\n",
        "  df_copy = data.copy()\n",
        "  df_copy = df_copy.drop(columns=['Amplitude'])\n",
        "  loc_max = data['Amplitude'][peaks]\n",
        "  return df_copy.join(loc_max, how='right')"
      ],
      "execution_count": 20,
      "outputs": []
    },
    {
      "cell_type": "code",
      "metadata": {
        "id": "I0oXwIAbfbtM"
      },
      "source": [
        "def plot_loc_max(data):\n",
        "  loc_max = local_max(data)\n",
        "  plt.plot(data['Wave_Lenght'], data['Amplitude'])\n",
        "  plt.plot(loc_max['Wave_Lenght'], loc_max['Amplitude'], \"x\")\n",
        "  plt.ylabel('Intensity')\n",
        "  plt.xlabel('Wave lenght')\n",
        "  plt.show()"
      ],
      "execution_count": 38,
      "outputs": []
    },
    {
      "cell_type": "code",
      "metadata": {
        "colab": {
          "base_uri": "https://localhost:8080/",
          "height": 279
        },
        "id": "DR3zH27ofL47",
        "outputId": "522f8385-072b-4e03-80aa-4923bf887347"
      },
      "source": [
        "plot_loc_max(df)"
      ],
      "execution_count": 39,
      "outputs": [
        {
          "output_type": "display_data",
          "data": {
            "image/png": "[encoded data removed]",
            "text/plain": [
              "<Figure size 432x288 with 1 Axes>"
            ]
          },
          "metadata": {
            "needs_background": "light"
          }
        }
      ]
    },
    {
      "cell_type": "code",
      "metadata": {
        "colab": {
          "base_uri": "https://localhost:8080/"
        },
        "id": "2MiFQaqofgr4",
        "outputId": "c934883f-936d-430d-fac2-28850a7a68d5"
      },
      "source": [
        "max_wave = df['Wave_Lenght'].max()\n",
        "max_wave"
      ],
      "execution_count": 26,
      "outputs": [
        {
          "output_type": "execute_result",
          "data": {
            "text/plain": [
              "1600.0"
            ]
          },
          "metadata": {},
          "execution_count": 26
        }
      ]
    },
    {
      "cell_type": "code",
      "metadata": {
        "colab": {
          "base_uri": "https://localhost:8080/",
          "height": 80
        },
        "id": "XMFS_VgvoEwT",
        "outputId": "adad610d-4ff5-48cc-9cb7-4556050d9fae"
      },
      "source": [
        "df[df['Wave_Lenght'] == 1600]"
      ],
      "execution_count": 36,
      "outputs": [
        {
          "output_type": "execute_result",
          "data": {
            "text/html": [
              "<div>\n",
              "<style scoped>\n",
              "    .dataframe tbody tr th:only-of-type {\n",
              "        vertical-align: middle;\n",
              "    }\n",
              "\n",
              "    .dataframe tbody tr th {\n",
              "        vertical-align: top;\n",
              "    }\n",
              "\n",
              "    .dataframe thead th {\n",
              "        text-align: right;\n",
              "    }\n",
              "</style>\n",
              "<table border=\"1\" class=\"dataframe\">\n",
              "  <thead>\n",
              "    <tr style=\"text-align: right;\">\n",
              "      <th></th>\n",
              "      <th>Wave_Lenght</th>\n",
              "      <th>Amplitude</th>\n",
              "    </tr>\n",
              "  </thead>\n",
              "  <tbody>\n",
              "    <tr>\n",
              "      <th>6300</th>\n",
              "      <td>1600.0</td>\n",
              "      <td>6.929000e-07</td>\n",
              "    </tr>\n",
              "  </tbody>\n",
              "</table>\n",
              "</div>"
            ],
            "text/plain": [
              "      Wave_Lenght     Amplitude\n",
              "6300       1600.0  6.929000e-07"
            ]
          },
          "metadata": {},
          "execution_count": 36
        }
      ]
    },
    {
      "cell_type": "code",
      "metadata": {
        "colab": {
          "base_uri": "https://localhost:8080/"
        },
        "id": "eGOcs33Ghvpz",
        "outputId": "9032fa8f-ffbd-4ca2-9cc7-aba307a19bfa"
      },
      "source": [
        "loc_max = local_max(df)\n",
        "global_max = loc_max['Amplitude'].max()\n",
        "global_max"
      ],
      "execution_count": 27,
      "outputs": [
        {
          "output_type": "execute_result",
          "data": {
            "text/plain": [
              "0.0009933"
            ]
          },
          "metadata": {},
          "execution_count": 27
        }
      ]
    },
    {
      "cell_type": "code",
      "metadata": {
        "colab": {
          "base_uri": "https://localhost:8080/",
          "height": 80
        },
        "id": "5BdbbOvdoLEG",
        "outputId": "3065bdb7-8b5f-4b64-91b6-beb741db3432"
      },
      "source": [
        "df[df['Amplitude'] == 0.0009933]"
      ],
      "execution_count": 35,
      "outputs": [
        {
          "output_type": "execute_result",
          "data": {
            "text/html": [
              "<div>\n",
              "<style scoped>\n",
              "    .dataframe tbody tr th:only-of-type {\n",
              "        vertical-align: middle;\n",
              "    }\n",
              "\n",
              "    .dataframe tbody tr th {\n",
              "        vertical-align: top;\n",
              "    }\n",
              "\n",
              "    .dataframe thead th {\n",
              "        text-align: right;\n",
              "    }\n",
              "</style>\n",
              "<table border=\"1\" class=\"dataframe\">\n",
              "  <thead>\n",
              "    <tr style=\"text-align: right;\">\n",
              "      <th></th>\n",
              "      <th>Wave_Lenght</th>\n",
              "      <th>Amplitude</th>\n",
              "    </tr>\n",
              "  </thead>\n",
              "  <tbody>\n",
              "    <tr>\n",
              "      <th>3423</th>\n",
              "      <td>1542.9167</td>\n",
              "      <td>0.000993</td>\n",
              "    </tr>\n",
              "  </tbody>\n",
              "</table>\n",
              "</div>"
            ],
            "text/plain": [
              "      Wave_Lenght  Amplitude\n",
              "3423    1542.9167   0.000993"
            ]
          },
          "metadata": {},
          "execution_count": 35
        }
      ]
    },
    {
      "cell_type": "code",
      "metadata": {
        "id": "7UnXd_x-h3Ca"
      },
      "source": [
        "def filter_by_max_glob(data, x=0.05):\n",
        "  loc_max = local_max(data)\n",
        "  global_max = loc_max['Amplitude'].max()\n",
        "  treshold = x * global_max\n",
        "  return data[data['Amplitude'] >= treshold].reset_index()"
      ],
      "execution_count": 28,
      "outputs": []
    },
    {
      "cell_type": "code",
      "metadata": {
        "id": "E5I5EmW8i6Nh"
      },
      "source": [
        "filtered_df = filter_by_max_glob(df)"
      ],
      "execution_count": 29,
      "outputs": []
    },
    {
      "cell_type": "code",
      "metadata": {
        "colab": {
          "base_uri": "https://localhost:8080/",
          "height": 419
        },
        "id": "enxEwEEbndA8",
        "outputId": "1ead34f6-2d93-47dd-fbf2-6d6aa23125a9"
      },
      "source": [
        "filtered_df"
      ],
      "execution_count": 31,
      "outputs": [
        {
          "output_type": "execute_result",
          "data": {
            "text/html": [
              "<div>\n",
              "<style scoped>\n",
              "    .dataframe tbody tr th:only-of-type {\n",
              "        vertical-align: middle;\n",
              "    }\n",
              "\n",
              "    .dataframe tbody tr th {\n",
              "        vertical-align: top;\n",
              "    }\n",
              "\n",
              "    .dataframe thead th {\n",
              "        text-align: right;\n",
              "    }\n",
              "</style>\n",
              "<table border=\"1\" class=\"dataframe\">\n",
              "  <thead>\n",
              "    <tr style=\"text-align: right;\">\n",
              "      <th></th>\n",
              "      <th>index</th>\n",
              "      <th>Wave_Lenght</th>\n",
              "      <th>Amplitude</th>\n",
              "    </tr>\n",
              "  </thead>\n",
              "  <tbody>\n",
              "    <tr>\n",
              "      <th>0</th>\n",
              "      <td>1320</td>\n",
              "      <td>1501.1905</td>\n",
              "      <td>0.000050</td>\n",
              "    </tr>\n",
              "    <tr>\n",
              "      <th>1</th>\n",
              "      <td>1321</td>\n",
              "      <td>1501.2103</td>\n",
              "      <td>0.000050</td>\n",
              "    </tr>\n",
              "    <tr>\n",
              "      <th>2</th>\n",
              "      <td>1322</td>\n",
              "      <td>1501.2302</td>\n",
              "      <td>0.000050</td>\n",
              "    </tr>\n",
              "    <tr>\n",
              "      <th>3</th>\n",
              "      <td>1323</td>\n",
              "      <td>1501.2500</td>\n",
              "      <td>0.000051</td>\n",
              "    </tr>\n",
              "    <tr>\n",
              "      <th>4</th>\n",
              "      <td>1324</td>\n",
              "      <td>1501.2698</td>\n",
              "      <td>0.000052</td>\n",
              "    </tr>\n",
              "    <tr>\n",
              "      <th>...</th>\n",
              "      <td>...</td>\n",
              "      <td>...</td>\n",
              "      <td>...</td>\n",
              "    </tr>\n",
              "    <tr>\n",
              "      <th>3596</th>\n",
              "      <td>5145</td>\n",
              "      <td>1577.0833</td>\n",
              "      <td>0.000054</td>\n",
              "    </tr>\n",
              "    <tr>\n",
              "      <th>3597</th>\n",
              "      <td>5146</td>\n",
              "      <td>1577.1032</td>\n",
              "      <td>0.000053</td>\n",
              "    </tr>\n",
              "    <tr>\n",
              "      <th>3598</th>\n",
              "      <td>5147</td>\n",
              "      <td>1577.1230</td>\n",
              "      <td>0.000053</td>\n",
              "    </tr>\n",
              "    <tr>\n",
              "      <th>3599</th>\n",
              "      <td>5148</td>\n",
              "      <td>1577.1429</td>\n",
              "      <td>0.000051</td>\n",
              "    </tr>\n",
              "    <tr>\n",
              "      <th>3600</th>\n",
              "      <td>5149</td>\n",
              "      <td>1577.1627</td>\n",
              "      <td>0.000051</td>\n",
              "    </tr>\n",
              "  </tbody>\n",
              "</table>\n",
              "<p>3601 rows × 3 columns</p>\n",
              "</div>"
            ],
            "text/plain": [
              "      index  Wave_Lenght  Amplitude\n",
              "0      1320    1501.1905   0.000050\n",
              "1      1321    1501.2103   0.000050\n",
              "2      1322    1501.2302   0.000050\n",
              "3      1323    1501.2500   0.000051\n",
              "4      1324    1501.2698   0.000052\n",
              "...     ...          ...        ...\n",
              "3596   5145    1577.0833   0.000054\n",
              "3597   5146    1577.1032   0.000053\n",
              "3598   5147    1577.1230   0.000053\n",
              "3599   5148    1577.1429   0.000051\n",
              "3600   5149    1577.1627   0.000051\n",
              "\n",
              "[3601 rows x 3 columns]"
            ]
          },
          "metadata": {},
          "execution_count": 31
        }
      ]
    },
    {
      "cell_type": "code",
      "metadata": {
        "colab": {
          "base_uri": "https://localhost:8080/",
          "height": 265
        },
        "id": "syY61ynxi9QL",
        "outputId": "7be83c16-62e7-408b-8095-f4b534c5258f"
      },
      "source": [
        "plot_loc_max(filtered_df)"
      ],
      "execution_count": 30,
      "outputs": [
        {
          "output_type": "display_data",
          "data": {
            "image/png": "[encoded data removed]",
            "text/plain": [
              "<Figure size 432x288 with 1 Axes>"
            ]
          },
          "metadata": {
            "needs_background": "light"
          }
        }
      ]
    },
    {
      "cell_type": "code",
      "metadata": {
        "id": "DWkmcoBEjARO"
      },
      "source": [
        "def distance_loc_max(data):\n",
        "  return data['Wave_Lenght'].diff()"
      ],
      "execution_count": 41,
      "outputs": []
    },
    {
      "cell_type": "code",
      "metadata": {
        "id": "KpzdruzX1Toh"
      },
      "source": [
        "local_max_distance = distance_loc_max(loc_max)"
      ],
      "execution_count": 42,
      "outputs": []
    },
    {
      "cell_type": "code",
      "metadata": {
        "colab": {
          "base_uri": "https://localhost:8080/"
        },
        "id": "f2EMK4Oj1XC-",
        "outputId": "9d3d044b-fb34-48d7-9c85-166c8764e347"
      },
      "source": [
        "local_max_distance"
      ],
      "execution_count": 43,
      "outputs": [
        {
          "output_type": "execute_result",
          "data": {
            "text/plain": [
              "1          NaN\n",
              "3       0.0397\n",
              "6       0.0595\n",
              "9       0.0596\n",
              "12      0.0595\n",
              "         ...  \n",
              "6285    0.0397\n",
              "6287    0.0397\n",
              "6292    0.0992\n",
              "6295    0.0595\n",
              "6298    0.0595\n",
              "Name: Wave_Lenght, Length: 806, dtype: float64"
            ]
          },
          "metadata": {},
          "execution_count": 43
        }
      ]
    },
    {
      "cell_type": "code",
      "metadata": {
        "id": "hy10pb7p1Zaq"
      },
      "source": [
        "local_max_distance_avg = local_max_distance.mean()\n",
        "local_max_distance_max = local_max_distance.max()\n",
        "local_max_distance_min = local_max_distance.min()\n",
        "local_max_distance_median = local_max_distance.median()\n",
        "min_wave = filtered_df['Wave_Lenght'].min()\n",
        "max_wave = filtered_df['Wave_Lenght'].max()"
      ],
      "execution_count": 53,
      "outputs": []
    },
    {
      "cell_type": "code",
      "metadata": {
        "colab": {
          "base_uri": "https://localhost:8080/"
        },
        "id": "SPDkTOsY4xKm",
        "outputId": "82d14603-4c36-41ae-f738-cf9b7310c77b"
      },
      "source": [
        "local_max_distance_avg "
      ],
      "execution_count": 47,
      "outputs": [
        {
          "output_type": "execute_result",
          "data": {
            "text/plain": [
              "0.1552055900621117"
            ]
          },
          "metadata": {},
          "execution_count": 47
        }
      ]
    },
    {
      "cell_type": "code",
      "metadata": {
        "colab": {
          "base_uri": "https://localhost:8080/"
        },
        "id": "1k3fm5EX484N",
        "outputId": "afc563fd-8883-45f4-d970-4eca9736facf"
      },
      "source": [
        "local_max_distance_max"
      ],
      "execution_count": 48,
      "outputs": [
        {
          "output_type": "execute_result",
          "data": {
            "text/plain": [
              "3.3134999999999764"
            ]
          },
          "metadata": {},
          "execution_count": 48
        }
      ]
    },
    {
      "cell_type": "code",
      "metadata": {
        "colab": {
          "base_uri": "https://localhost:8080/"
        },
        "id": "LrK4VXby6HkV",
        "outputId": "406c5916-ff67-4d6c-9288-051bd391a36a"
      },
      "source": [
        "local_max_distance_min"
      ],
      "execution_count": 49,
      "outputs": [
        {
          "output_type": "execute_result",
          "data": {
            "text/plain": [
              "0.039599999999836655"
            ]
          },
          "metadata": {},
          "execution_count": 49
        }
      ]
    },
    {
      "cell_type": "code",
      "metadata": {
        "colab": {
          "base_uri": "https://localhost:8080/"
        },
        "id": "Dj6hDNkp6Iat",
        "outputId": "998c81ce-d06c-4764-c612-1dd92841f8fe"
      },
      "source": [
        "local_max_distance_median"
      ],
      "execution_count": 50,
      "outputs": [
        {
          "output_type": "execute_result",
          "data": {
            "text/plain": [
              "0.05950000000007094"
            ]
          },
          "metadata": {},
          "execution_count": 50
        }
      ]
    },
    {
      "cell_type": "code",
      "metadata": {
        "colab": {
          "base_uri": "https://localhost:8080/"
        },
        "id": "S7giXk376JYt",
        "outputId": "615b9a77-d4fc-42ec-abd0-6d60ff67161c"
      },
      "source": [
        "min_wave"
      ],
      "execution_count": 54,
      "outputs": [
        {
          "output_type": "execute_result",
          "data": {
            "text/plain": [
              "1501.1905"
            ]
          },
          "metadata": {},
          "execution_count": 54
        }
      ]
    },
    {
      "cell_type": "code",
      "metadata": {
        "colab": {
          "base_uri": "https://localhost:8080/"
        },
        "id": "20kBajUd6UNJ",
        "outputId": "363fd0f8-03fd-48dd-9b39-83d7ea96a0cf"
      },
      "source": [
        "max_wave"
      ],
      "execution_count": 55,
      "outputs": [
        {
          "output_type": "execute_result",
          "data": {
            "text/plain": [
              "1577.1627"
            ]
          },
          "metadata": {},
          "execution_count": 55
        }
      ]
    },
    {
      "cell_type": "code",
      "metadata": {
        "id": "DMRTA60-6UXI"
      },
      "source": [
        "amplitude = global_max - filtered_df['Amplitude'].min()"
      ],
      "execution_count": 56,
      "outputs": []
    },
    {
      "cell_type": "code",
      "metadata": {
        "colab": {
          "base_uri": "https://localhost:8080/"
        },
        "id": "-8arWPUU9HYK",
        "outputId": "f394c1a2-6483-4214-da4c-5ba50dd324b3"
      },
      "source": [
        "amplitude"
      ],
      "execution_count": 57,
      "outputs": [
        {
          "output_type": "execute_result",
          "data": {
            "text/plain": [
              "0.0009435399999999999"
            ]
          },
          "metadata": {},
          "execution_count": 57
        }
      ]
    },
    {
      "cell_type": "code",
      "metadata": {
        "colab": {
          "base_uri": "https://localhost:8080/",
          "height": 80
        },
        "id": "w7lG1j0g9I7J",
        "outputId": "e09bf56c-ee99-4977-b8c1-e49cd5120c40"
      },
      "source": [
        "filtered_df[filtered_df['Amplitude'] == loc_max['Amplitude'].max()]"
      ],
      "execution_count": 58,
      "outputs": [
        {
          "output_type": "execute_result",
          "data": {
            "text/html": [
              "<div>\n",
              "<style scoped>\n",
              "    .dataframe tbody tr th:only-of-type {\n",
              "        vertical-align: middle;\n",
              "    }\n",
              "\n",
              "    .dataframe tbody tr th {\n",
              "        vertical-align: top;\n",
              "    }\n",
              "\n",
              "    .dataframe thead th {\n",
              "        text-align: right;\n",
              "    }\n",
              "</style>\n",
              "<table border=\"1\" class=\"dataframe\">\n",
              "  <thead>\n",
              "    <tr style=\"text-align: right;\">\n",
              "      <th></th>\n",
              "      <th>index</th>\n",
              "      <th>Wave_Lenght</th>\n",
              "      <th>Amplitude</th>\n",
              "    </tr>\n",
              "  </thead>\n",
              "  <tbody>\n",
              "    <tr>\n",
              "      <th>1924</th>\n",
              "      <td>3423</td>\n",
              "      <td>1542.9167</td>\n",
              "      <td>0.000993</td>\n",
              "    </tr>\n",
              "  </tbody>\n",
              "</table>\n",
              "</div>"
            ],
            "text/plain": [
              "      index  Wave_Lenght  Amplitude\n",
              "1924   3423    1542.9167   0.000993"
            ]
          },
          "metadata": {},
          "execution_count": 58
        }
      ]
    },
    {
      "cell_type": "code",
      "metadata": {
        "id": "iN3RvY-p_ReG"
      },
      "source": [
        ""
      ],
      "execution_count": null,
      "outputs": []
    }
  ]
}